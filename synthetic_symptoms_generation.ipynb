{
 "cells": [
  {
   "cell_type": "markdown",
   "id": "4800698c-ca0c-4a14-97d5-32d169883c69",
   "metadata": {},
   "source": [
    "### Imports"
   ]
  },
  {
   "cell_type": "code",
   "execution_count": 1,
   "id": "35e0d78b-f6fe-413e-ad31-330cad99d8e4",
   "metadata": {},
   "outputs": [],
   "source": [
    "import concurrent.futures\n",
    "import json\n",
    "import logging\n",
    "import os\n",
    "import requests\n",
    "from requests.exceptions import Timeout\n",
    "\n",
    "import openai"
   ]
  },
  {
   "cell_type": "markdown",
   "id": "fdd2daff-5522-4982-849c-7f9fc6bd37f4",
   "metadata": {},
   "source": [
    "### Logger setup"
   ]
  },
  {
   "cell_type": "code",
   "execution_count": 3,
   "id": "f992ff6d-8c77-4970-a986-bb42ccb37521",
   "metadata": {},
   "outputs": [],
   "source": [
    "app_logger = logging.getLogger('my_app_logger')\n",
    "app_logger.setLevel(logging.INFO)\n",
    "\n",
    "ch = logging.StreamHandler()\n",
    "ch.setLevel(logging.INFO)\n",
    "\n",
    "formatter = logging.Formatter('%(asctime)s - %(name)s - %(levelname)s - %(message)s')\n",
    "ch.setFormatter(formatter)\n",
    "\n",
    "app_logger.addHandler(ch)"
   ]
  },
  {
   "cell_type": "markdown",
   "id": "2361da77-c3fc-4026-ad9e-1e1ff22b906b",
   "metadata": {},
   "source": [
    "### ICD code labels extraction tools"
   ]
  },
  {
   "cell_type": "code",
   "execution_count": null,
   "id": "d1f095ef-ce4f-4ff3-bb9f-288f7aa24723",
   "metadata": {},
   "outputs": [],
   "source": [
    "icd_labels_file = \"icd_code_labels.jsonl\""
   ]
  },
  {
   "cell_type": "code",
   "execution_count": 5,
   "id": "392cf7d6-b089-419c-83d2-a1f489698f68",
   "metadata": {},
   "outputs": [],
   "source": [
    "def get_icd_code_labels_dict(jsonl_path):\n",
    "    code_labels = {}\n",
    "    \n",
    "    with open(jsonl_path, 'r', encoding='utf-8') as file:\n",
    "        for line in file:\n",
    "            json_line = json.loads(line.strip())\n",
    "            code_labels[json_line['code']] = json_line['label']\n",
    "    \n",
    "    return code_labels"
   ]
  },
  {
   "cell_type": "markdown",
   "id": "a23b127a-6dcc-4455-b774-c9050ad81fab",
   "metadata": {},
   "source": [
    "### Synhtetic data generation tools"
   ]
  },
  {
   "cell_type": "code",
   "execution_count": 7,
   "id": "86e2a9d9-e80d-4ef5-ad1e-597095831ce6",
   "metadata": {},
   "outputs": [],
   "source": [
    "def generate_prompt(icd_code, label, max_words):\n",
    "    return f\"\"\"\n",
    "    Think up a text in Russian that describes patient's symptoms for the diagnosis: {icd_code} ({label}).\n",
    "    The text should be concise, not exceeding {max_words} words.\n",
    "    The text should be creative and not stereotype, the text must not contain the ICD code or the diagnosis name.\n",
    "    The text should be realistic and diverse so that it could actually appear in person's EHR.\n",
    "    Your response should be only the symptoms text, written in Russian.\n",
    "    \"\"\""
   ]
  },
  {
   "cell_type": "code",
   "execution_count": 18,
   "id": "7890ba48-ec3c-4ccc-aa02-9d22265f1217",
   "metadata": {},
   "outputs": [],
   "source": [
    "def generate_synthetic_symptoms(\n",
    "    run_idx,\n",
    "    diagnosis_code,\n",
    "    diagnosis_label,\n",
    "    model_version,\n",
    "    max_words,\n",
    "    count,\n",
    "    temperature,\n",
    "    timeout_seconds, \n",
    "    max_retries\n",
    "):\n",
    "    synthetic_symptoms = []\n",
    "    \n",
    "    prompt = generate_prompt(diagnosis_code, diagnosis_label, max_words)\n",
    "    \n",
    "    for i in range(count):\n",
    "        retries = 0\n",
    "        while retries < max_retries:\n",
    "            try:\n",
    "                response = requests.post(\n",
    "                    \"https://api.openai.com/v1/chat/completions\",\n",
    "                    json={\n",
    "                        \"model\": model_version,\n",
    "                        \"messages\": [\n",
    "                            {\"role\": \"user\", \"content\": prompt}\n",
    "                        ],\n",
    "                        \"temperature\": temperature,\n",
    "                        \"max_tokens\": 512,\n",
    "                    },\n",
    "                    headers={\n",
    "                        \"Authorization\": f\"Bearer {api_key}\"\n",
    "                    },\n",
    "                    timeout=timeout_seconds\n",
    "                )\n",
    "                \n",
    "                if response.status_code == 200:\n",
    "                    generated_text = response.json()['choices'][0]['message']['content']\n",
    "                    synthetic_symptoms.append({\"idx\": f\"synthetic_{diagnosis_code}_{run_idx}_{i}\", \"symptoms\": generated_text, \"code\": diagnosis_code})\n",
    "                    app_logger.info(f\"Completed {diagnosis_code}, {i}\")\n",
    "                    break\n",
    "                else:\n",
    "                    app_logger.error(f\"Failed to generate symptoms for {diagnosis_code}, {i}: {response.text}\")\n",
    "                    retries += 1\n",
    "                    \n",
    "            except Timeout:\n",
    "                app_logger.error(f\"Request timed out for {diagnosis_code}, {i}\")\n",
    "                retries += 1\n",
    "            except Exception as e:\n",
    "                app_logger.error(f\"An error occurred: {e}\")\n",
    "                retries += 1\n",
    "\n",
    "            if retries >= max_retries:\n",
    "                app_logger.error(f\"Max retries reached for {diagnosis_code}, {i}\")\n",
    "                break\n",
    "\n",
    "    return synthetic_symptoms"
   ]
  },
  {
   "cell_type": "markdown",
   "id": "3b11388e-153b-445f-8e67-8a1237b9efdb",
   "metadata": {},
   "source": [
    "### Configuration"
   ]
  },
  {
   "cell_type": "code",
   "execution_count": null,
   "id": "43f05852-c66c-4e95-bc7f-e338f2970cd7",
   "metadata": {},
   "outputs": [],
   "source": [
    "api_key = \"\" # OpenAI access key\n",
    "run_idx = 0 # global index to differentiate generation sessions\n",
    "max_words = 120 # max words for the synthetic symptoms\n",
    "count_per_icd = 25 # how many synthetics entries to generate per each diagnosis\n",
    "temperature = 0.8 # a value from 0 to 1, determines the randomness and creativity of synthetic samples\n",
    "model_version = \"gpt-4\" # model version, valid models can be found on the OpenAI website\n",
    "\n",
    "max_workers = 4 # number of workers for the thread pool, can be adjusted depending on OpenAI limit rates and available hardware\n",
    "timeout_seconds = 25 # time before retrying generation of synthetic symptoms\n",
    "max_retries = 5 # max retries before skipping the generation of synthetic symptom\n",
    "\n",
    "code_labels = get_icd_code_labels_dict(\"icd_code_labels.jsonl\")\n",
    "output_name = f\"gpt_4_RuMedTop3_{run_idx}.jsonl\""
   ]
  },
  {
   "cell_type": "markdown",
   "id": "9172c7a7-0462-480d-a94e-aae64b3a6a85",
   "metadata": {},
   "source": [
    "### Execution"
   ]
  },
  {
   "cell_type": "code",
   "execution_count": null,
   "id": "25ea1ff1-603b-46f7-820a-d056b71761bb",
   "metadata": {},
   "outputs": [],
   "source": [
    "with concurrent.futures.ThreadPoolExecutor(max_workers=max_workers) as executor:\n",
    "    futures = [\n",
    "        executor.submit(\n",
    "            generate_synthetic_symptoms, \n",
    "            run_idx, \n",
    "            code, \n",
    "            label,\n",
    "            model_version,\n",
    "            max_words,\n",
    "            count_per_icd,\n",
    "            temperature,\n",
    "            timeout_seconds,\n",
    "            max_retries\n",
    "        ) \n",
    "        for code, label in code_labels.items()\n",
    "    ]\n",
    "    \n",
    "    results = [future.result() for future in concurrent.futures.as_completed(futures)]\n",
    "\n",
    "all_synthetic_symptoms = [item for sublist in results for item in sublist]"
   ]
  },
  {
   "cell_type": "markdown",
   "id": "45479db8-ed5e-4210-b3b6-204d7e7e154f",
   "metadata": {},
   "source": [
    "### Saving the results to a jsonl file (RuMedTop3 format)"
   ]
  },
  {
   "cell_type": "code",
   "execution_count": null,
   "id": "76c8845c-d074-4eed-a9f4-fbe86a19baec",
   "metadata": {},
   "outputs": [],
   "source": [
    "with open(output_name, 'w', encoding=\"utf-8\") as outfile:\n",
    "    for entry in all_synthetic_symptoms:\n",
    "        json.dump(entry, outfile, ensure_ascii=False)\n",
    "        outfile.write('\\n')"
   ]
  }
 ],
 "metadata": {
  "kernelspec": {
   "display_name": "Python 3 (ipykernel)",
   "language": "python",
   "name": "python3"
  },
  "language_info": {
   "codemirror_mode": {
    "name": "ipython",
    "version": 3
   },
   "file_extension": ".py",
   "mimetype": "text/x-python",
   "name": "python",
   "nbconvert_exporter": "python",
   "pygments_lexer": "ipython3",
   "version": "3.8.18"
  }
 },
 "nbformat": 4,
 "nbformat_minor": 5
}
